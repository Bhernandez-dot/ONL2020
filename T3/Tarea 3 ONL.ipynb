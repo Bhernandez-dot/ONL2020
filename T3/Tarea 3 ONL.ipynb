{
 "cells": [
  {
   "cell_type": "markdown",
   "metadata": {},
   "source": [
    "# 5. Código\n",
    "********************\n",
    "********************"
   ]
  },
  {
   "cell_type": "code",
   "execution_count": 19,
   "metadata": {},
   "outputs": [],
   "source": [
    "import pandas as pd \n",
    "import numpy as np\n",
    "import matplotlib.pyplot as plt\n",
    "from scipy.optimize import minimize\n",
    "from scipy.spatial import distance"
   ]
  },
  {
   "cell_type": "code",
   "execution_count": null,
   "metadata": {},
   "outputs": [],
   "source": [
    "def get_distances(S,p):\n",
    "    dist=distance.cdist(S,np.array(p).reshape((1,2)))\n",
    "    return sum(dist)\n",
    "\n",
    "def get_p(theta):\n",
    "    return (np.cos(theta)*1000,np.sin(theta)*1000)"
   ]
  },
  {
   "cell_type": "code",
   "execution_count": null,
   "metadata": {},
   "outputs": [],
   "source": [
    "def solve_modelo(dist_s1,p2_max_dist,N=20,plot=False):\n",
    "    \"\"\"\n",
    "    Función principal para la resolución del problema.\n",
    "    Soluciona la minimización de suma de distancias de dos conjuntos de puntos inscritos en la circunferencia de centro 0\n",
    "    y radio 1000 a dos puntos de entrega.\n",
    "    \n",
    "    Parametros:\n",
    "        dist_s1: Int. Distribución inicial de puntos del conjunto S1. Toma valores en {1,2,3}\n",
    "            1: Distribución de puntos (i,j) con i = −500, . . . , 500, j = −500, . . . , 500.\n",
    "            2: Distribucion de puntos (i,j) con i = 0, . . . , 500, j = −500, . . . , i.\n",
    "            3: Distribución de puntos seleccionados aleatoriamente descritos en el problema.\n",
    "            \n",
    "        p2_max_dist: Bool. True si el segundo punto de entrega se encuentra diametralmente opuesto a p1.\n",
    "                        Si es False, este segundo punto es tambiénparte de la optimización.\n",
    "        \n",
    "        N: Int. Cantidad de puntos iniciales distintos a ocupar. Son elegidos aleatoriamente según una dist uniforme a lo largo de la circunferencia.\n",
    "        \n",
    "        plot: Bool.\n",
    "    \"\"\"\n",
    "    S = [((i*100),(j*100)) for i in range(-10,10+1) for j in range(-10,10+1) if (i*100)**2+(j*100)**2<=(1000)**2]\n",
    "    if dist_s1==1:\n",
    "        S1 = [((i*100),(j*100)) for i in range(-5,5+1) for j in range(-5,5+1)]\n",
    "    elif dist_s1==2:\n",
    "        S1 = [((i*100),(j*100)) for i in range(0,5+1) for j in range(-5,5+1) if j<=i]\n",
    "    elif dist_s1==3:\n",
    "        S1= [(0, 0), (0, 100), (0, 300), (0, 500), (100, 200), (100, 300),(200,-200), (-300, 300), (1000, 0), (-300,-400)]\n",
    "    else:\n",
    "        raise ValueError('Valor dist_s1 no reconocido. Los valores aceptados son {1,2,3}.')\n",
    "        \n",
    "    S2 = list(set(S).difference(set(S1)))\n",
    "    \n",
    "    F = lambda theta: get_distances(S1,get_p(theta[0])) + get_distances(S2,get_p(theta[1]))\n",
    "    \n",
    "    if p2_max_dist:    \n",
    "        f = lambda theta: F([theta,theta+np.pi])\n",
    "\n",
    "        lb = [0]\n",
    "        ub = [2*np.pi]\n",
    "        cotas = list(zip(lb,ub))\n",
    "        \n",
    "        best_x=[0,0]\n",
    "        best_val=np.infty\n",
    "        \n",
    "        for i in range(N):\n",
    "            p0 = np.random.rand(1)*2*np.pi\n",
    "\n",
    "            m = minimize(f,p0, options={'maxiter':1000}, bounds = cotas)\n",
    "            if m.fun < best_val:\n",
    "                best_x=m.x\n",
    "                best_val=m.fun\n",
    "        p = [get_p(best_x),get_p(best_x+np.pi)]\n",
    "    else:\n",
    "        f = lambda theta: F(theta)\n",
    "\n",
    "        lb = [0,0]\n",
    "        ub = [2*np.pi,2*np.pi]\n",
    "        cotas = list(zip(lb,ub))\n",
    "        \n",
    "        best_x=[0,0]\n",
    "        best_val=np.infty\n",
    "        \n",
    "        for i in range(N):\n",
    "            p0 = np.random.rand(2)*2*np.pi\n",
    "        \n",
    "            m = minimize(f,p0, options={'maxiter':1000}, bounds = cotas)\n",
    "            if m.fun < best_val:\n",
    "                best_x=m.x\n",
    "                best_val=m.fun\n",
    "        p = [get_p(best_x[0]),get_p(best_x[1])]\n",
    "        \n",
    "    if plot:\n",
    "        p_label=['p1','p2']\n",
    "        plt.scatter(list(zip(*S2))[0],list(zip(*S2))[1],c='b',marker='.',label='S2')\n",
    "        plt.scatter(list(zip(*S1))[0],list(zip(*S1))[1],c='r',marker='.',label='S1')\n",
    "        plt.scatter(list(zip(*p))[0],list(zip(*p))[1],c='g',marker='o',alpha=0.7)\n",
    "        plt.scatter(list(zip(*p))[0],list(zip(*p))[1],c='g',marker='o',alpha=0.7)\n",
    "        plt.legend()\n",
    "        for i, txt in enumerate(p_label):\n",
    "            plt.annotate(txt, p[i], xytext=[a+20 for a in p[i]])\n",
    "            plt.savefig('sol_dist_{}{}.pdf'.format(dist_s1,'_maxdist'*p2_max_dist),bbox_inches='tight')\n",
    "    return p,m"
   ]
  },
  {
   "cell_type": "code",
   "execution_count": null,
   "metadata": {},
   "outputs": [],
   "source": [
    "p,m=solve_modelo(1,True,plot=True)"
   ]
  }
 ],
 "metadata": {
  "kernelspec": {
   "display_name": "Python 3",
   "language": "python",
   "name": "python3"
  },
  "language_info": {
   "codemirror_mode": {
    "name": "ipython",
    "version": 3
   },
   "file_extension": ".py",
   "mimetype": "text/x-python",
   "name": "python",
   "nbconvert_exporter": "python",
   "pygments_lexer": "ipython3",
   "version": "3.7.4"
  }
 },
 "nbformat": 4,
 "nbformat_minor": 4
}
