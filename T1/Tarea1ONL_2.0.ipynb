{
 "cells": [
  {
   "cell_type": "markdown",
   "metadata": {},
   "source": [
    "## Caso 1:  $k(x) = 20x$"
   ]
  },
  {
   "cell_type": "code",
   "execution_count": 1,
   "metadata": {},
   "outputs": [
    {
     "name": "stdout",
     "output_type": "stream",
     "text": [
      "Variable x_1-2 =  89.0\n",
      "Variable x_1-4 =  41.0\n",
      "Variable x_2-5 =  89.0\n",
      "Variable x_4-7 =  41.0\n",
      "Variable x_5-8 =  89.0\n",
      "Variable x_7-9 =  41.0\n",
      "Variable x_8-9 =  9.0\n",
      "Variable x_8-11 =  80.0\n",
      "Variable x_9-11 =  50.0\n",
      "Valor objetivo:  8450\n"
     ]
    }
   ],
   "source": [
    "import numpy as np\n",
    "import matplotlib.pyplot as plt\n",
    "from scipy.optimize import minimize\n",
    "\n",
    "N=11\n",
    "W = np.zeros([N,N]) #Pesos de los arcos\n",
    "W[0,1] = 100\n",
    "W[0,2] = np.inf\n",
    "W[0,3] = 100\n",
    "W[1,2] = 50\n",
    "W[1,4] = 100\n",
    "W[1,5] = 100\n",
    "W[2,3] = np.inf\n",
    "W[2,5] = np.inf\n",
    "W[3,5] = 50\n",
    "W[3,6] = 60\n",
    "W[4,5] = np.inf\n",
    "W[4,7] = 100\n",
    "W[5,7] = 80\n",
    "W[5,8] = 100\n",
    "W[5,6] = np.inf\n",
    "W[6,8] = 80\n",
    "W[6,9] = 80\n",
    "W[7,8] = 50\n",
    "W[7,10] = 80\n",
    "W[8,10] = 50\n",
    "W[8,9] = 50\n",
    "W[9,10] = np.inf\n",
    "\n",
    "k = lambda x: 20*x\n",
    "b = lambda x: 150*x - (x**2)/2\n",
    "\n",
    "c = np.zeros([N,N]) #Definición de los costos\n",
    "for i in range(N):\n",
    "    for j in range(N):\n",
    "        if W[i,j] == np.inf:\n",
    "            c[i,j] = 2\n",
    "\n",
    "Vint = np.zeros(N,dtype = list) #Corte de entrada para cada nodo\n",
    "Vout = np.zeros(N,dtype = list) #Corte de salida para cada nodo\n",
    "\n",
    "for i in range(N):\n",
    "    vin = []\n",
    "    vout = []\n",
    "    for j in range(N):\n",
    "        if W[j,i] != 0:\n",
    "            vin.append(j)\n",
    "        if W[i,j] != 0:\n",
    "            vout.append(j)\n",
    "    Vint[i] = vin\n",
    "    Vout[i] = vout\n",
    "\n",
    "def objetivo(V):\n",
    "    '''\n",
    "    Inicialmente era para una matrix de NxN pero para ser utilizado en el algoritmo de optimizacion\n",
    "    modificamos esta matriz a un vector de N^2, luego recuperamos la matriz dentro de la función\n",
    "    '''\n",
    "    X = V.reshape([N,N])\n",
    "    x = np.sum([X[i,10] for i in Vint[10]])\n",
    "    costo = np.sum([c[i,j]*X[i,j] for j in range(N) for i in range(N)])\n",
    "    return -(b(x) - k(x) - costo)\n",
    "\n",
    "##### Modelo scipy\n",
    "\n",
    "## Cotas:\n",
    "lb = np.zeros([N,N]).reshape(N*N)\n",
    "ub = W.reshape(N*N)\n",
    "B = list(zip(lb,ub))\n",
    "\n",
    "## Restricciones:\n",
    "cons = []\n",
    "for i in range(1,N-1):\n",
    "    def f(V, i=i):\n",
    "        X = V.reshape([N,N])\n",
    "        return np.sum([X[k,i] for k in Vint[i]]) - np.sum([X[i,k] for k in Vout[i]])\n",
    "    cons.append( {'type':'eq', 'fun':f})\n",
    "    \n",
    "def g(V):\n",
    "    X = V.reshape([N,N])\n",
    "    if np.sum([X[i,8] for i in Vint[8]]) != 0:\n",
    "        return np.sum([X[i,5] for i in Vint[5]])\n",
    "    elif np.sum([X[i,5] for i in Vint[5]]) != 0:\n",
    "        return np.sum([X[i,8] for i in Vint[8]])\n",
    "    else:\n",
    "        return X[10,10]\n",
    "\n",
    "cons.append( {'type':'eq', 'fun':g})\n",
    "    \n",
    "minimo = minimize(objetivo, np.zeros(N*N), bounds = B , constraints = cons)\n",
    "\n",
    "xmin = minimo.x.reshape([N,N])\n",
    "for i in range(N):\n",
    "    for j in range(N):\n",
    "        if round(xmin[i,j]) != 0:\n",
    "            print('Variable x_'+str(i+1)+'-'+str(j+1)+' = ', round(xmin[i,j]))\n",
    "\n",
    "\n",
    "print('Valor objetivo: ', -1*round(minimo.fun))"
   ]
  },
  {
   "cell_type": "markdown",
   "metadata": {},
   "source": [
    "## Gráfico del flujo"
   ]
  },
  {
   "cell_type": "code",
   "execution_count": 2,
   "metadata": {},
   "outputs": [],
   "source": [
    "import networkx as nx\n",
    "G = nx.Graph()\n",
    "G.add_node(1, pos = (0,1))\n",
    "G.add_node(2, pos = (1,2))\n",
    "G.add_node(3, pos = (1,1))\n",
    "G.add_node(4, pos = (1,0))\n",
    "G.add_node(5, pos = (2,2))\n",
    "G.add_node(6, pos = (2,1))\n",
    "G.add_node(7, pos = (2,0))\n",
    "G.add_node(8, pos = (3,2))\n",
    "G.add_node(9, pos = (3,1))\n",
    "G.add_node(10, pos = (3,0))\n",
    "G.add_node(11, pos = (4,1))\n",
    "\n",
    "for i in range(N):\n",
    "    for j in range(N):\n",
    "        if W[i,j] != 0.:\n",
    "            if round(xmin[i,j]) != 0:\n",
    "                G.add_edge(i+1,j+1, weight= round(xmin[i,j]))\n",
    "#             else:\n",
    "#                 G.add_edge(i+1,j+1, weight= round(xmin[i,j]))"
   ]
  },
  {
   "cell_type": "code",
   "execution_count": 4,
   "metadata": {},
   "outputs": [
    {
     "data": {
      "text/plain": [
       "{(1, 2): Text(0.5, 1.5, '89.0'),\n",
       " (1, 4): Text(0.5, 0.5, '41.0'),\n",
       " (2, 5): Text(1.5, 2.0, '89.0'),\n",
       " (4, 7): Text(1.5, 0.0, '41.0'),\n",
       " (5, 8): Text(2.5, 2.0, '89.0'),\n",
       " (7, 9): Text(2.5, 0.5, '41.0'),\n",
       " (8, 9): Text(3.0, 1.5, '9.0'),\n",
       " (8, 11): Text(3.5, 1.5, '80.0'),\n",
       " (9, 11): Text(3.5, 1.0, '50.0')}"
      ]
     },
     "execution_count": 4,
     "metadata": {},
     "output_type": "execute_result"
    },
    {
     "data": {
      "image/png": "[encoded data removed]",
      "text/plain": [
       "<Figure size 720x504 with 1 Axes>"
      ]
     },
     "metadata": {},
     "output_type": "display_data"
    }
   ],
   "source": [
    "plt.figure(figsize = (10,7))\n",
    "pos=nx.get_node_attributes(G,'pos')\n",
    "nx.draw(G,pos, node_color = 'b',with_labels=True, node_size = 800)\n",
    "labels = nx.get_edge_attributes(G,'weight')\n",
    "nx.draw_networkx_edge_labels(G,pos,edge_labels=labels)\n"
   ]
  },
  {
   "cell_type": "markdown",
   "metadata": {},
   "source": [
    "## Caso 2: $k(x) = 40x$"
   ]
  },
  {
   "cell_type": "code",
   "execution_count": 5,
   "metadata": {},
   "outputs": [
    {
     "name": "stdout",
     "output_type": "stream",
     "text": [
      "Variable x_1-2 =  62.0\n",
      "Variable x_1-4 =  48.0\n",
      "Variable x_2-5 =  62.0\n",
      "Variable x_4-7 =  48.0\n",
      "Variable x_5-8 =  62.0\n",
      "Variable x_7-9 =  48.0\n",
      "Variable x_8-9 =  1.0\n",
      "Variable x_8-11 =  61.0\n",
      "Variable x_9-11 =  49.0\n",
      "Valor objetivo:  6050\n"
     ]
    }
   ],
   "source": [
    "import numpy as np\n",
    "import matplotlib.pyplot as plt\n",
    "from scipy.optimize import minimize\n",
    "\n",
    "N=11\n",
    "W = np.zeros([N,N]) #Pesos de los arcos\n",
    "W[0,1] = 100\n",
    "W[0,2] = np.inf\n",
    "W[0,3] = 100\n",
    "W[1,2] = 50\n",
    "W[1,4] = 100\n",
    "W[1,5] = 100\n",
    "W[2,3] = np.inf\n",
    "W[2,5] = np.inf\n",
    "W[3,5] = 50\n",
    "W[3,6] = 60\n",
    "W[4,5] = np.inf\n",
    "W[4,7] = 100\n",
    "W[5,7] = 80\n",
    "W[5,8] = 100\n",
    "W[5,6] = np.inf\n",
    "W[6,8] = 80\n",
    "W[6,9] = 80\n",
    "W[7,8] = 50\n",
    "W[7,10] = 80\n",
    "W[8,10] = 50\n",
    "W[8,9] = 50\n",
    "W[9,10] = np.inf\n",
    "\n",
    "k = lambda x: 40*x\n",
    "b = lambda x: 150*x - (x**2)/2\n",
    "\n",
    "c = np.zeros([N,N]) #Definición de los costos\n",
    "for i in range(N):\n",
    "    for j in range(N):\n",
    "        if W[i,j] == np.inf:\n",
    "            c[i,j] = 2\n",
    "\n",
    "Vint = np.zeros(N,dtype = list) #Corte de entrada para cada nodo\n",
    "Vout = np.zeros(N,dtype = list) #Corte de salida para cada nodo\n",
    "\n",
    "for i in range(N):\n",
    "    vin = []\n",
    "    vout = []\n",
    "    for j in range(N):\n",
    "        if W[j,i] != 0:\n",
    "            vin.append(j)\n",
    "        if W[i,j] != 0:\n",
    "            vout.append(j)\n",
    "    Vint[i] = vin\n",
    "    Vout[i] = vout\n",
    "\n",
    "def objetivo(V):\n",
    "    '''\n",
    "    Inicialmente era para una matrix de NxN pero para ser utilizado en el algoritmo de optimizacion\n",
    "    modificamos esta matriz a un vector de N^2, luego recuperamos la matriz dentro de la función\n",
    "    '''\n",
    "    X = V.reshape([N,N])\n",
    "    x = np.sum([X[i,10] for i in Vint[10]])\n",
    "    costo = np.sum([c[i,j]*X[i,j] for j in range(N) for i in range(N)])\n",
    "    return -(b(x) - k(x) - costo)\n",
    "\n",
    "##### Modelo scipy\n",
    "\n",
    "## Cotas:\n",
    "lb = np.zeros([N,N]).reshape(N*N)\n",
    "ub = W.reshape(N*N)\n",
    "B = list(zip(lb,ub))\n",
    "\n",
    "## Restricciones:\n",
    "cons = []\n",
    "for i in range(1,N-1):\n",
    "    def f(V, i=i):\n",
    "        X = V.reshape([N,N])\n",
    "        return np.sum([X[k,i] for k in Vint[i]]) - np.sum([X[i,k] for k in Vout[i]])\n",
    "    cons.append( {'type':'eq', 'fun':f})\n",
    "    \n",
    "def g(V):\n",
    "    X = V.reshape([N,N])\n",
    "    if np.sum([X[i,8] for i in Vint[8]]) != 0:\n",
    "        return np.sum([X[i,5] for i in Vint[5]])\n",
    "    elif np.sum([X[i,5] for i in Vint[5]]) != 0:\n",
    "        return np.sum([X[i,8] for i in Vint[8]])\n",
    "    else:\n",
    "        return X[10,10]\n",
    "\n",
    "cons.append( {'type':'eq', 'fun':g})\n",
    "    \n",
    "minimo = minimize(objetivo, np.zeros(N*N), bounds = B , constraints = cons)\n",
    "\n",
    "xmin = minimo.x.reshape([N,N])\n",
    "for i in range(N):\n",
    "    for j in range(N):\n",
    "        if round(xmin[i,j]) != 0:\n",
    "            print('Variable x_'+str(i+1)+'-'+str(j+1)+' = ', round(xmin[i,j]))\n",
    "\n",
    "\n",
    "print('Valor objetivo: ', -1*round(minimo.fun))"
   ]
  },
  {
   "cell_type": "markdown",
   "metadata": {},
   "source": [
    "## Gráfico del flujo"
   ]
  },
  {
   "cell_type": "code",
   "execution_count": 6,
   "metadata": {},
   "outputs": [],
   "source": [
    "G = nx.Graph()\n",
    "G.add_node(1, pos = (0,1))\n",
    "G.add_node(2, pos = (1,2))\n",
    "G.add_node(3, pos = (1,1))\n",
    "G.add_node(4, pos = (1,0))\n",
    "G.add_node(5, pos = (2,2))\n",
    "G.add_node(6, pos = (2,1))\n",
    "G.add_node(7, pos = (2,0))\n",
    "G.add_node(8, pos = (3,2))\n",
    "G.add_node(9, pos = (3,1))\n",
    "G.add_node(10, pos = (3,0))\n",
    "G.add_node(11, pos = (4,1))\n",
    "\n",
    "for i in range(N):\n",
    "    for j in range(N):\n",
    "        if W[i,j] != 0.:\n",
    "            if round(xmin[i,j]) != 0:\n",
    "                G.add_edge(i+1,j+1, weight= round(xmin[i,j]))"
   ]
  },
  {
   "cell_type": "code",
   "execution_count": 7,
   "metadata": {},
   "outputs": [
    {
     "data": {
      "text/plain": [
       "{(1, 2): Text(0.5, 1.5, '62.0'),\n",
       " (1, 4): Text(0.5, 0.5, '48.0'),\n",
       " (2, 5): Text(1.5, 2.0, '62.0'),\n",
       " (4, 7): Text(1.5, 0.0, '48.0'),\n",
       " (5, 8): Text(2.5, 2.0, '62.0'),\n",
       " (7, 9): Text(2.5, 0.5, '48.0'),\n",
       " (8, 9): Text(3.0, 1.5, '1.0'),\n",
       " (8, 11): Text(3.5, 1.5, '61.0'),\n",
       " (9, 11): Text(3.5, 1.0, '49.0')}"
      ]
     },
     "execution_count": 7,
     "metadata": {},
     "output_type": "execute_result"
    },
    {
     "data": {
      "image/png": "[encoded data removed]",
      "text/plain": [
       "<Figure size 720x504 with 1 Axes>"
      ]
     },
     "metadata": {},
     "output_type": "display_data"
    }
   ],
   "source": [
    "plt.figure(figsize = (10,7))\n",
    "pos=nx.get_node_attributes(G,'pos')\n",
    "nx.draw(G,pos, node_color = 'b',with_labels=True, node_size = 800)\n",
    "labels = nx.get_edge_attributes(G,'weight')\n",
    "nx.draw_networkx_edge_labels(G,pos,edge_labels=labels)\n"
   ]
  }
 ],
 "metadata": {
  "colab": {
   "collapsed_sections": [],
   "name": "Tarea1ONL.ipynb",
   "provenance": []
  },
  "kernelspec": {
   "display_name": "Python 3",
   "language": "python",
   "name": "python3"
  },
  "language_info": {
   "codemirror_mode": {
    "name": "ipython",
    "version": 3
   },
   "file_extension": ".py",
   "mimetype": "text/x-python",
   "name": "python",
   "nbconvert_exporter": "python",
   "pygments_lexer": "ipython3",
   "version": "3.7.4"
  }
 },
 "nbformat": 4,
 "nbformat_minor": 1
}
